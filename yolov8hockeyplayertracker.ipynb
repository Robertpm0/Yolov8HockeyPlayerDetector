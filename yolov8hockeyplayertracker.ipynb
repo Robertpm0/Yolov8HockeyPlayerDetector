{
 "cells": [
  {
   "cell_type": "code",
   "execution_count": 1,
   "id": "ac23c103",
   "metadata": {
    "execution": {
     "iopub.execute_input": "2024-06-23T17:05:03.397906Z",
     "iopub.status.busy": "2024-06-23T17:05:03.397533Z",
     "iopub.status.idle": "2024-06-23T17:05:03.402186Z",
     "shell.execute_reply": "2024-06-23T17:05:03.401445Z"
    },
    "id": "WAw6d7XFx-gZ",
    "papermill": {
     "duration": 0.011392,
     "end_time": "2024-06-23T17:05:03.404245",
     "exception": false,
     "start_time": "2024-06-23T17:05:03.392853",
     "status": "completed"
    },
    "tags": []
   },
   "outputs": [],
   "source": [
    "#!pip uninstall ultralytics -y\n",
    "#!pip uninstall roboflow -y"
   ]
  },
  {
   "cell_type": "code",
   "execution_count": 2,
   "id": "524e93e7",
   "metadata": {
    "execution": {
     "iopub.execute_input": "2024-06-23T17:05:03.411163Z",
     "iopub.status.busy": "2024-06-23T17:05:03.410921Z",
     "iopub.status.idle": "2024-06-23T17:05:17.901665Z",
     "shell.execute_reply": "2024-06-23T17:05:17.900362Z"
    },
    "papermill": {
     "duration": 14.497348,
     "end_time": "2024-06-23T17:05:17.904506",
     "exception": false,
     "start_time": "2024-06-23T17:05:03.407158",
     "status": "completed"
    },
    "tags": []
   },
   "outputs": [
    {
     "name": "stdout",
     "output_type": "stream",
     "text": [
      "Collecting ultralytics==8.0.196\r\n",
      "  Downloading ultralytics-8.0.196-py3-none-any.whl.metadata (31 kB)\r\n",
      "Requirement already satisfied: matplotlib>=3.3.0 in /opt/conda/lib/python3.10/site-packages (from ultralytics==8.0.196) (3.7.5)\r\n",
      "Requirement already satisfied: numpy>=1.22.2 in /opt/conda/lib/python3.10/site-packages (from ultralytics==8.0.196) (1.26.4)\r\n",
      "Requirement already satisfied: opencv-python>=4.6.0 in /opt/conda/lib/python3.10/site-packages (from ultralytics==8.0.196) (4.10.0.82)\r\n",
      "Requirement already satisfied: pillow>=7.1.2 in /opt/conda/lib/python3.10/site-packages (from ultralytics==8.0.196) (9.5.0)\r\n",
      "Requirement already satisfied: pyyaml>=5.3.1 in /opt/conda/lib/python3.10/site-packages (from ultralytics==8.0.196) (6.0.1)\r\n",
      "Requirement already satisfied: requests>=2.23.0 in /opt/conda/lib/python3.10/site-packages (from ultralytics==8.0.196) (2.32.3)\r\n",
      "Requirement already satisfied: scipy>=1.4.1 in /opt/conda/lib/python3.10/site-packages (from ultralytics==8.0.196) (1.11.4)\r\n",
      "Requirement already satisfied: torch>=1.8.0 in /opt/conda/lib/python3.10/site-packages (from ultralytics==8.0.196) (2.1.2)\r\n",
      "Requirement already satisfied: torchvision>=0.9.0 in /opt/conda/lib/python3.10/site-packages (from ultralytics==8.0.196) (0.16.2)\r\n",
      "Requirement already satisfied: tqdm>=4.64.0 in /opt/conda/lib/python3.10/site-packages (from ultralytics==8.0.196) (4.66.4)\r\n",
      "Requirement already satisfied: pandas>=1.1.4 in /opt/conda/lib/python3.10/site-packages (from ultralytics==8.0.196) (2.2.1)\r\n",
      "Requirement already satisfied: seaborn>=0.11.0 in /opt/conda/lib/python3.10/site-packages (from ultralytics==8.0.196) (0.12.2)\r\n",
      "Requirement already satisfied: psutil in /opt/conda/lib/python3.10/site-packages (from ultralytics==8.0.196) (5.9.3)\r\n",
      "Requirement already satisfied: py-cpuinfo in /opt/conda/lib/python3.10/site-packages (from ultralytics==8.0.196) (9.0.0)\r\n",
      "Collecting thop>=0.1.1 (from ultralytics==8.0.196)\r\n",
      "  Downloading thop-0.1.1.post2209072238-py3-none-any.whl.metadata (2.7 kB)\r\n",
      "Requirement already satisfied: contourpy>=1.0.1 in /opt/conda/lib/python3.10/site-packages (from matplotlib>=3.3.0->ultralytics==8.0.196) (1.2.0)\r\n",
      "Requirement already satisfied: cycler>=0.10 in /opt/conda/lib/python3.10/site-packages (from matplotlib>=3.3.0->ultralytics==8.0.196) (0.12.1)\r\n",
      "Requirement already satisfied: fonttools>=4.22.0 in /opt/conda/lib/python3.10/site-packages (from matplotlib>=3.3.0->ultralytics==8.0.196) (4.47.0)\r\n",
      "Requirement already satisfied: kiwisolver>=1.0.1 in /opt/conda/lib/python3.10/site-packages (from matplotlib>=3.3.0->ultralytics==8.0.196) (1.4.5)\r\n",
      "Requirement already satisfied: packaging>=20.0 in /opt/conda/lib/python3.10/site-packages (from matplotlib>=3.3.0->ultralytics==8.0.196) (21.3)\r\n",
      "Requirement already satisfied: pyparsing>=2.3.1 in /opt/conda/lib/python3.10/site-packages (from matplotlib>=3.3.0->ultralytics==8.0.196) (3.1.1)\r\n",
      "Requirement already satisfied: python-dateutil>=2.7 in /opt/conda/lib/python3.10/site-packages (from matplotlib>=3.3.0->ultralytics==8.0.196) (2.9.0.post0)\r\n",
      "Requirement already satisfied: pytz>=2020.1 in /opt/conda/lib/python3.10/site-packages (from pandas>=1.1.4->ultralytics==8.0.196) (2023.3.post1)\r\n",
      "Requirement already satisfied: tzdata>=2022.7 in /opt/conda/lib/python3.10/site-packages (from pandas>=1.1.4->ultralytics==8.0.196) (2023.4)\r\n",
      "Requirement already satisfied: charset-normalizer<4,>=2 in /opt/conda/lib/python3.10/site-packages (from requests>=2.23.0->ultralytics==8.0.196) (3.3.2)\r\n",
      "Requirement already satisfied: idna<4,>=2.5 in /opt/conda/lib/python3.10/site-packages (from requests>=2.23.0->ultralytics==8.0.196) (3.6)\r\n",
      "Requirement already satisfied: urllib3<3,>=1.21.1 in /opt/conda/lib/python3.10/site-packages (from requests>=2.23.0->ultralytics==8.0.196) (1.26.18)\r\n",
      "Requirement already satisfied: certifi>=2017.4.17 in /opt/conda/lib/python3.10/site-packages (from requests>=2.23.0->ultralytics==8.0.196) (2024.2.2)\r\n",
      "Requirement already satisfied: filelock in /opt/conda/lib/python3.10/site-packages (from torch>=1.8.0->ultralytics==8.0.196) (3.13.1)\r\n",
      "Requirement already satisfied: typing-extensions in /opt/conda/lib/python3.10/site-packages (from torch>=1.8.0->ultralytics==8.0.196) (4.9.0)\r\n",
      "Requirement already satisfied: sympy in /opt/conda/lib/python3.10/site-packages (from torch>=1.8.0->ultralytics==8.0.196) (1.12.1)\r\n",
      "Requirement already satisfied: networkx in /opt/conda/lib/python3.10/site-packages (from torch>=1.8.0->ultralytics==8.0.196) (3.2.1)\r\n",
      "Requirement already satisfied: jinja2 in /opt/conda/lib/python3.10/site-packages (from torch>=1.8.0->ultralytics==8.0.196) (3.1.2)\r\n",
      "Requirement already satisfied: fsspec in /opt/conda/lib/python3.10/site-packages (from torch>=1.8.0->ultralytics==8.0.196) (2024.3.1)\r\n",
      "Requirement already satisfied: six>=1.5 in /opt/conda/lib/python3.10/site-packages (from python-dateutil>=2.7->matplotlib>=3.3.0->ultralytics==8.0.196) (1.16.0)\r\n",
      "Requirement already satisfied: MarkupSafe>=2.0 in /opt/conda/lib/python3.10/site-packages (from jinja2->torch>=1.8.0->ultralytics==8.0.196) (2.1.3)\r\n",
      "Requirement already satisfied: mpmath<1.4.0,>=1.1.0 in /opt/conda/lib/python3.10/site-packages (from sympy->torch>=1.8.0->ultralytics==8.0.196) (1.3.0)\r\n",
      "Downloading ultralytics-8.0.196-py3-none-any.whl (631 kB)\r\n",
      "\u001b[2K   \u001b[90m━━━━━━━━━━━━━━━━━━━━━━━━━━━━━━━━━━━━━━━━\u001b[0m \u001b[32m631.1/631.1 kB\u001b[0m \u001b[31m16.2 MB/s\u001b[0m eta \u001b[36m0:00:00\u001b[0m\r\n",
      "\u001b[?25hDownloading thop-0.1.1.post2209072238-py3-none-any.whl (15 kB)\r\n",
      "Installing collected packages: thop, ultralytics\r\n",
      "Successfully installed thop-0.1.1.post2209072238 ultralytics-8.0.196\r\n"
     ]
    }
   ],
   "source": [
    "!pip install ultralytics==8.0.196"
   ]
  },
  {
   "cell_type": "markdown",
   "id": "b90826f8",
   "metadata": {
    "id": "SzVFu-xYEI-0",
    "papermill": {
     "duration": 0.004278,
     "end_time": "2024-06-23T17:05:17.914283",
     "exception": false,
     "start_time": "2024-06-23T17:05:17.910005",
     "status": "completed"
    },
    "tags": []
   },
   "source": []
  },
  {
   "cell_type": "code",
   "execution_count": 3,
   "id": "eae5b226",
   "metadata": {
    "execution": {
     "iopub.execute_input": "2024-06-23T17:05:17.925075Z",
     "iopub.status.busy": "2024-06-23T17:05:17.924715Z",
     "iopub.status.idle": "2024-06-23T17:05:34.489073Z",
     "shell.execute_reply": "2024-06-23T17:05:34.487935Z"
    },
    "id": "IdHgQuAnw-kW",
    "outputId": "32fd028b-a378-4da4-f725-f6e2e9dffd2a",
    "papermill": {
     "duration": 16.572592,
     "end_time": "2024-06-23T17:05:34.491503",
     "exception": false,
     "start_time": "2024-06-23T17:05:17.918911",
     "status": "completed"
    },
    "tags": []
   },
   "outputs": [
    {
     "name": "stdout",
     "output_type": "stream",
     "text": [
      "Collecting roboflow\r\n",
      "  Downloading roboflow-1.1.33-py3-none-any.whl.metadata (9.2 kB)\r\n",
      "Requirement already satisfied: certifi in /opt/conda/lib/python3.10/site-packages (from roboflow) (2024.2.2)\r\n",
      "Collecting chardet==4.0.0 (from roboflow)\r\n",
      "  Downloading chardet-4.0.0-py2.py3-none-any.whl.metadata (3.5 kB)\r\n",
      "Collecting idna==3.7 (from roboflow)\r\n",
      "  Downloading idna-3.7-py3-none-any.whl.metadata (9.9 kB)\r\n",
      "Requirement already satisfied: cycler in /opt/conda/lib/python3.10/site-packages (from roboflow) (0.12.1)\r\n",
      "Requirement already satisfied: kiwisolver>=1.3.1 in /opt/conda/lib/python3.10/site-packages (from roboflow) (1.4.5)\r\n",
      "Requirement already satisfied: matplotlib in /opt/conda/lib/python3.10/site-packages (from roboflow) (3.7.5)\r\n",
      "Requirement already satisfied: numpy>=1.18.5 in /opt/conda/lib/python3.10/site-packages (from roboflow) (1.26.4)\r\n",
      "Collecting opencv-python-headless==4.10.0.84 (from roboflow)\r\n",
      "  Downloading opencv_python_headless-4.10.0.84-cp37-abi3-manylinux_2_17_x86_64.manylinux2014_x86_64.whl.metadata (20 kB)\r\n",
      "Requirement already satisfied: Pillow>=7.1.2 in /opt/conda/lib/python3.10/site-packages (from roboflow) (9.5.0)\r\n",
      "Requirement already satisfied: python-dateutil in /opt/conda/lib/python3.10/site-packages (from roboflow) (2.9.0.post0)\r\n",
      "Requirement already satisfied: python-dotenv in /opt/conda/lib/python3.10/site-packages (from roboflow) (1.0.0)\r\n",
      "Requirement already satisfied: requests in /opt/conda/lib/python3.10/site-packages (from roboflow) (2.32.3)\r\n",
      "Requirement already satisfied: six in /opt/conda/lib/python3.10/site-packages (from roboflow) (1.16.0)\r\n",
      "Requirement already satisfied: urllib3>=1.26.6 in /opt/conda/lib/python3.10/site-packages (from roboflow) (1.26.18)\r\n",
      "Requirement already satisfied: tqdm>=4.41.0 in /opt/conda/lib/python3.10/site-packages (from roboflow) (4.66.4)\r\n",
      "Requirement already satisfied: PyYAML>=5.3.1 in /opt/conda/lib/python3.10/site-packages (from roboflow) (6.0.1)\r\n",
      "Requirement already satisfied: requests-toolbelt in /opt/conda/lib/python3.10/site-packages (from roboflow) (0.10.1)\r\n",
      "Collecting python-magic (from roboflow)\r\n",
      "  Downloading python_magic-0.4.27-py2.py3-none-any.whl.metadata (5.8 kB)\r\n",
      "Requirement already satisfied: contourpy>=1.0.1 in /opt/conda/lib/python3.10/site-packages (from matplotlib->roboflow) (1.2.0)\r\n",
      "Requirement already satisfied: fonttools>=4.22.0 in /opt/conda/lib/python3.10/site-packages (from matplotlib->roboflow) (4.47.0)\r\n",
      "Requirement already satisfied: packaging>=20.0 in /opt/conda/lib/python3.10/site-packages (from matplotlib->roboflow) (21.3)\r\n",
      "Requirement already satisfied: pyparsing>=2.3.1 in /opt/conda/lib/python3.10/site-packages (from matplotlib->roboflow) (3.1.1)\r\n",
      "Requirement already satisfied: charset-normalizer<4,>=2 in /opt/conda/lib/python3.10/site-packages (from requests->roboflow) (3.3.2)\r\n",
      "Downloading roboflow-1.1.33-py3-none-any.whl (75 kB)\r\n",
      "\u001b[2K   \u001b[90m━━━━━━━━━━━━━━━━━━━━━━━━━━━━━━━━━━━━━━━━\u001b[0m \u001b[32m75.6/75.6 kB\u001b[0m \u001b[31m4.6 MB/s\u001b[0m eta \u001b[36m0:00:00\u001b[0m\r\n",
      "\u001b[?25hDownloading chardet-4.0.0-py2.py3-none-any.whl (178 kB)\r\n",
      "\u001b[2K   \u001b[90m━━━━━━━━━━━━━━━━━━━━━━━━━━━━━━━━━━━━━━━━\u001b[0m \u001b[32m178.7/178.7 kB\u001b[0m \u001b[31m12.0 MB/s\u001b[0m eta \u001b[36m0:00:00\u001b[0m\r\n",
      "\u001b[?25hDownloading idna-3.7-py3-none-any.whl (66 kB)\r\n",
      "\u001b[2K   \u001b[90m━━━━━━━━━━━━━━━━━━━━━━━━━━━━━━━━━━━━━━━━\u001b[0m \u001b[32m66.8/66.8 kB\u001b[0m \u001b[31m4.7 MB/s\u001b[0m eta \u001b[36m0:00:00\u001b[0m\r\n",
      "\u001b[?25hDownloading opencv_python_headless-4.10.0.84-cp37-abi3-manylinux_2_17_x86_64.manylinux2014_x86_64.whl (49.9 MB)\r\n",
      "\u001b[2K   \u001b[90m━━━━━━━━━━━━━━━━━━━━━━━━━━━━━━━━━━━━━━━━\u001b[0m \u001b[32m49.9/49.9 MB\u001b[0m \u001b[31m33.9 MB/s\u001b[0m eta \u001b[36m0:00:00\u001b[0m\r\n",
      "\u001b[?25hDownloading python_magic-0.4.27-py2.py3-none-any.whl (13 kB)\r\n",
      "Installing collected packages: python-magic, opencv-python-headless, idna, chardet, roboflow\r\n",
      "  Attempting uninstall: opencv-python-headless\r\n",
      "    Found existing installation: opencv-python-headless 4.10.0.82\r\n",
      "    Uninstalling opencv-python-headless-4.10.0.82:\r\n",
      "      Successfully uninstalled opencv-python-headless-4.10.0.82\r\n",
      "  Attempting uninstall: idna\r\n",
      "    Found existing installation: idna 3.6\r\n",
      "    Uninstalling idna-3.6:\r\n",
      "      Successfully uninstalled idna-3.6\r\n",
      "\u001b[31mERROR: pip's dependency resolver does not currently take into account all the packages that are installed. This behaviour is the source of the following dependency conflicts.\r\n",
      "tensorflow-decision-forests 1.8.1 requires wurlitzer, which is not installed.\r\n",
      "jupyterlab 4.2.1 requires jupyter-lsp>=2.0.0, but you have jupyter-lsp 1.5.1 which is incompatible.\r\n",
      "jupyterlab-lsp 5.1.0 requires jupyter-lsp>=2.0.0, but you have jupyter-lsp 1.5.1 which is incompatible.\r\n",
      "tensorflow 2.15.0 requires keras<2.16,>=2.15.0, but you have keras 3.3.3 which is incompatible.\r\n",
      "ydata-profiling 4.6.4 requires numpy<1.26,>=1.16.0, but you have numpy 1.26.4 which is incompatible.\u001b[0m\u001b[31m\r\n",
      "\u001b[0mSuccessfully installed chardet-4.0.0 idna-3.7 opencv-python-headless-4.10.0.84 python-magic-0.4.27 roboflow-1.1.33\r\n"
     ]
    }
   ],
   "source": [
    "#!pip install ultralytics\n",
    "!pip install roboflow"
   ]
  },
  {
   "cell_type": "code",
   "execution_count": 4,
   "id": "664081e7",
   "metadata": {
    "execution": {
     "iopub.execute_input": "2024-06-23T17:05:34.506048Z",
     "iopub.status.busy": "2024-06-23T17:05:34.505757Z",
     "iopub.status.idle": "2024-06-23T17:05:45.913829Z",
     "shell.execute_reply": "2024-06-23T17:05:45.913015Z"
    },
    "id": "d7VgobxcyVFm",
    "outputId": "755f0ddb-0fef-459e-aeb2-f3d95172f624",
    "papermill": {
     "duration": 11.417901,
     "end_time": "2024-06-23T17:05:45.916031",
     "exception": false,
     "start_time": "2024-06-23T17:05:34.498130",
     "status": "completed"
    },
    "tags": []
   },
   "outputs": [
    {
     "name": "stdout",
     "output_type": "stream",
     "text": [
      "loading Roboflow workspace...\n",
      "loading Roboflow project...\n"
     ]
    },
    {
     "name": "stderr",
     "output_type": "stream",
     "text": [
      "Downloading Dataset Version Zip in hockeyPlayerDetectors-1 to yolov8:: 100%|██████████| 143536/143536 [00:03<00:00, 42522.03it/s]"
     ]
    },
    {
     "name": "stdout",
     "output_type": "stream",
     "text": [
      "\n"
     ]
    },
    {
     "name": "stderr",
     "output_type": "stream",
     "text": [
      "\n",
      "Extracting Dataset Version Zip to hockeyPlayerDetectors-1 in yolov8:: 100%|██████████| 3488/3488 [00:00<00:00, 5836.85it/s]\n"
     ]
    }
   ],
   "source": [
    "\n",
    "\n",
    "from roboflow import Roboflow\n",
    "rf = Roboflow(api_key=\"ykUtbJXSC5kVDDGBhzH2\")\n",
    "project = rf.workspace(\"hawkey\").project(\"hockeyplayerdetectors\")\n",
    "version = project.version(1)\n",
    "dataset = version.download(\"yolov8\")\n"
   ]
  },
  {
   "cell_type": "code",
   "execution_count": 5,
   "id": "87246552",
   "metadata": {
    "execution": {
     "iopub.execute_input": "2024-06-23T17:05:45.939938Z",
     "iopub.status.busy": "2024-06-23T17:05:45.939461Z",
     "iopub.status.idle": "2024-06-23T17:05:46.429483Z",
     "shell.execute_reply": "2024-06-23T17:05:46.428609Z"
    },
    "id": "K5AVBDdeylOz",
    "outputId": "1a7c6786-0cae-4e3d-810c-5288f428fb73",
    "papermill": {
     "duration": 0.503832,
     "end_time": "2024-06-23T17:05:46.431702",
     "exception": false,
     "start_time": "2024-06-23T17:05:45.927870",
     "status": "completed"
    },
    "tags": []
   },
   "outputs": [
    {
     "data": {
      "text/plain": [
       "'hockeyPlayerDetectors-1/hockeyPlayerDetectors-1/valid'"
      ]
     },
     "execution_count": 5,
     "metadata": {},
     "output_type": "execute_result"
    }
   ],
   "source": [
    "import shutil\n",
    "\n",
    "shutil.move('hockeyPlayerDetectors-1/train',\n",
    "            'hockeyPlayerDetectors-1/hockeyPlayerDetectors-1/train'\n",
    "            )\n",
    "\n",
    "shutil.move('hockeyPlayerDetectors-1/test',\n",
    "            'hockeyPlayerDetectors-1/hockeyPlayerDetectors-1/test'\n",
    "            )\n",
    "\n",
    "shutil.move('hockeyPlayerDetectors-1/valid',\n",
    "            'hockeyPlayerDetectors-1/hockeyPlayerDetectors-1/valid'\n",
    "            )"
   ]
  },
  {
   "cell_type": "code",
   "execution_count": 6,
   "id": "4e4f1585",
   "metadata": {
    "execution": {
     "iopub.execute_input": "2024-06-23T17:05:46.454059Z",
     "iopub.status.busy": "2024-06-23T17:05:46.453329Z",
     "iopub.status.idle": "2024-06-23T17:05:58.284438Z",
     "shell.execute_reply": "2024-06-23T17:05:58.283409Z"
    },
    "id": "XPmpVFV1ymC7",
    "outputId": "fcaee8f6-f9fe-423f-8244-78c0ae03cff2",
    "papermill": {
     "duration": 11.844705,
     "end_time": "2024-06-23T17:05:58.286842",
     "exception": false,
     "start_time": "2024-06-23T17:05:46.442137",
     "status": "completed"
    },
    "tags": []
   },
   "outputs": [
    {
     "name": "stdout",
     "output_type": "stream",
     "text": [
      "Downloading https://github.com/ultralytics/assets/releases/download/v0.0.0/yolov8x.pt to 'yolov8x.pt'...\r\n",
      "100%|█████████████████████████████████████████| 131M/131M [00:00<00:00, 321MB/s]\r\n",
      "New https://pypi.org/project/ultralytics/8.2.40 available 😃 Update with 'pip install -U ultralytics'\r\n",
      "Ultralytics YOLOv8.0.196 🚀 Python-3.10.13 torch-2.1.2 CUDA:0 (Tesla P100-PCIE-16GB, 16276MiB)\r\n",
      "\u001b[34m\u001b[1mengine/trainer: \u001b[0mtask=detect, mode=train, model=yolov8x.pt, data=/kaggle/working/hockeyPlayerDetectors-1/data.yaml, epochs=100, patience=50, batch=16, imgsz=640, save=True, save_period=-1, cache=False, device=None, workers=8, project=None, name=None, exist_ok=False, pretrained=True, optimizer=auto, verbose=True, seed=0, deterministic=True, single_cls=False, rect=False, cos_lr=False, close_mosaic=10, resume=False, amp=True, fraction=1.0, profile=False, freeze=None, overlap_mask=True, mask_ratio=4, dropout=0.0, val=True, split=val, save_json=False, save_hybrid=False, conf=None, iou=0.7, max_det=300, half=False, dnn=False, plots=True, source=None, show=False, save_txt=False, save_conf=False, save_crop=False, show_labels=True, show_conf=True, vid_stride=1, stream_buffer=False, line_width=None, visualize=False, augment=False, agnostic_nms=False, classes=None, retina_masks=False, boxes=True, format=torchscript, keras=False, optimize=False, int8=False, dynamic=False, simplify=False, opset=None, workspace=4, nms=False, lr0=0.01, lrf=0.01, momentum=0.937, weight_decay=0.0005, warmup_epochs=3.0, warmup_momentum=0.8, warmup_bias_lr=0.1, box=7.5, cls=0.5, dfl=1.5, pose=12.0, kobj=1.0, label_smoothing=0.0, nbs=64, hsv_h=0.015, hsv_s=0.7, hsv_v=0.4, degrees=0.0, translate=0.1, scale=0.5, shear=0.0, perspective=0.0, flipud=0.0, fliplr=0.5, mosaic=1.0, mixup=0.0, copy_paste=0.0, cfg=None, tracker=botsort.yaml, save_dir=runs/detect/train\r\n",
      "Traceback (most recent call last):\r\n",
      "  File \"/opt/conda/lib/python3.10/site-packages/ultralytics/engine/trainer.py\", line 118, in __init__\r\n",
      "    self.data = check_det_dataset(self.args.data)\r\n",
      "  File \"/opt/conda/lib/python3.10/site-packages/ultralytics/data/utils.py\", line 301, in check_det_dataset\r\n",
      "    raise FileNotFoundError(m)\r\n",
      "FileNotFoundError: \r\n",
      "Dataset '/kaggle/working/hockeyPlayerDetectors-1/data.yaml' images not found ⚠️, missing path '/kaggle/working/hockeyPlayerDetectors-1/valid/images'\r\n",
      "Note dataset download directory is '/kaggle/working/datasets'. You can update this in '/root/.config/Ultralytics/settings.yaml'\r\n",
      "\r\n",
      "The above exception was the direct cause of the following exception:\r\n",
      "\r\n",
      "Traceback (most recent call last):\r\n",
      "  File \"/opt/conda/bin/yolo\", line 8, in <module>\r\n",
      "    sys.exit(entrypoint())\r\n",
      "  File \"/opt/conda/lib/python3.10/site-packages/ultralytics/cfg/__init__.py\", line 445, in entrypoint\r\n",
      "    getattr(model, mode)(**overrides)  # default args from model\r\n",
      "  File \"/opt/conda/lib/python3.10/site-packages/ultralytics/engine/model.py\", line 336, in train\r\n",
      "    self.trainer = (trainer or self._smart_load('trainer'))(overrides=args, _callbacks=self.callbacks)\r\n",
      "  File \"/opt/conda/lib/python3.10/site-packages/ultralytics/engine/trainer.py\", line 122, in __init__\r\n",
      "    raise RuntimeError(emojis(f\"Dataset '{clean_url(self.args.data)}' error ❌ {e}\")) from e\r\n",
      "RuntimeError: Dataset '/kaggle/working/hockeyPlayerDetectors-1/data.yaml' error ❌ \r\n",
      "Dataset '/kaggle/working/hockeyPlayerDetectors-1/data.yaml' images not found ⚠️, missing path '/kaggle/working/hockeyPlayerDetectors-1/valid/images'\r\n",
      "Note dataset download directory is '/kaggle/working/datasets'. You can update this in '/root/.config/Ultralytics/settings.yaml'\r\n",
      "Sentry is attempting to send 2 pending events\r\n",
      "Waiting up to 2 seconds\r\n",
      "Press Ctrl-C to quit\r\n"
     ]
    }
   ],
   "source": [
    "!yolo task=detect mode=train model=yolov8x.pt data={dataset.location}/data.yaml epochs=100 imgsz=640 plots=True"
   ]
  }
 ],
 "metadata": {
  "accelerator": "TPU",
  "colab": {
   "gpuType": "V28",
   "provenance": []
  },
  "kaggle": {
   "accelerator": "gpu",
   "dataSources": [],
   "dockerImageVersionId": 30733,
   "isGpuEnabled": true,
   "isInternetEnabled": true,
   "language": "python",
   "sourceType": "notebook"
  },
  "kernelspec": {
   "display_name": "Python 3",
   "language": "python",
   "name": "python3"
  },
  "language_info": {
   "codemirror_mode": {
    "name": "ipython",
    "version": 3
   },
   "file_extension": ".py",
   "mimetype": "text/x-python",
   "name": "python",
   "nbconvert_exporter": "python",
   "pygments_lexer": "ipython3",
   "version": "3.10.13"
  },
  "papermill": {
   "default_parameters": {},
   "duration": 58.540835,
   "end_time": "2024-06-23T17:05:59.219371",
   "environment_variables": {},
   "exception": null,
   "input_path": "__notebook__.ipynb",
   "output_path": "__notebook__.ipynb",
   "parameters": {},
   "start_time": "2024-06-23T17:05:00.678536",
   "version": "2.5.0"
  }
 },
 "nbformat": 4,
 "nbformat_minor": 5
}
